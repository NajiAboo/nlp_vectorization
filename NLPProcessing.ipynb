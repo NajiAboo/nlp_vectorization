{
 "cells": [
  {
   "cell_type": "code",
   "execution_count": 79,
   "id": "7136f0b0",
   "metadata": {},
   "outputs": [],
   "source": [
    "import re\n",
    "import pandas as pd\n",
    "from nltk.tokenize import sent_tokenize\n",
    "from nltk.tokenize import word_tokenize"
   ]
  },
  {
   "cell_type": "code",
   "execution_count": 2,
   "id": "98d82ccc",
   "metadata": {},
   "outputs": [],
   "source": [
    "df = pd.read_csv('dataset/IMDB Dataset.csv')"
   ]
  },
  {
   "cell_type": "code",
   "execution_count": 116,
   "id": "e7948d20",
   "metadata": {},
   "outputs": [],
   "source": [
    "df = df.head()"
   ]
  },
  {
   "cell_type": "code",
   "execution_count": 118,
   "id": "43ad51ed",
   "metadata": {},
   "outputs": [],
   "source": [
    "corpus = []"
   ]
  },
  {
   "cell_type": "code",
   "execution_count": 119,
   "id": "4641c813",
   "metadata": {},
   "outputs": [],
   "source": [
    "corpus = (list(df['review']))"
   ]
  },
  {
   "cell_type": "code",
   "execution_count": 120,
   "id": "8fd7a1f3",
   "metadata": {},
   "outputs": [],
   "source": [
    "from nltk.corpus import stopwords"
   ]
  },
  {
   "cell_type": "code",
   "execution_count": 121,
   "id": "9c6e64f5",
   "metadata": {},
   "outputs": [],
   "source": [
    "stopwords = stopwords.words('english')"
   ]
  },
  {
   "cell_type": "code",
   "execution_count": 122,
   "id": "f2075daf",
   "metadata": {},
   "outputs": [],
   "source": [
    "stopwords_custom = [ word for word in stopwords if 'n\\'t'  not in word  if 'not' not in word]"
   ]
  },
  {
   "cell_type": "code",
   "execution_count": 123,
   "id": "d733ddb7",
   "metadata": {},
   "outputs": [],
   "source": [
    "stopwords_custom.append('<br />')"
   ]
  },
  {
   "cell_type": "code",
   "execution_count": 124,
   "id": "ce10d560",
   "metadata": {},
   "outputs": [
    {
     "data": {
      "text/plain": [
       "['i',\n",
       " 'me',\n",
       " 'my',\n",
       " 'myself',\n",
       " 'we',\n",
       " 'our',\n",
       " 'ours',\n",
       " 'ourselves',\n",
       " 'you',\n",
       " \"you're\",\n",
       " \"you've\",\n",
       " \"you'll\",\n",
       " \"you'd\",\n",
       " 'your',\n",
       " 'yours',\n",
       " 'yourself',\n",
       " 'yourselves',\n",
       " 'he',\n",
       " 'him',\n",
       " 'his',\n",
       " 'himself',\n",
       " 'she',\n",
       " \"she's\",\n",
       " 'her',\n",
       " 'hers',\n",
       " 'herself',\n",
       " 'it',\n",
       " \"it's\",\n",
       " 'its',\n",
       " 'itself',\n",
       " 'they',\n",
       " 'them',\n",
       " 'their',\n",
       " 'theirs',\n",
       " 'themselves',\n",
       " 'what',\n",
       " 'which',\n",
       " 'who',\n",
       " 'whom',\n",
       " 'this',\n",
       " 'that',\n",
       " \"that'll\",\n",
       " 'these',\n",
       " 'those',\n",
       " 'am',\n",
       " 'is',\n",
       " 'are',\n",
       " 'was',\n",
       " 'were',\n",
       " 'be',\n",
       " 'been',\n",
       " 'being',\n",
       " 'have',\n",
       " 'has',\n",
       " 'had',\n",
       " 'having',\n",
       " 'do',\n",
       " 'does',\n",
       " 'did',\n",
       " 'doing',\n",
       " 'a',\n",
       " 'an',\n",
       " 'the',\n",
       " 'and',\n",
       " 'but',\n",
       " 'if',\n",
       " 'or',\n",
       " 'because',\n",
       " 'as',\n",
       " 'until',\n",
       " 'while',\n",
       " 'of',\n",
       " 'at',\n",
       " 'by',\n",
       " 'for',\n",
       " 'with',\n",
       " 'about',\n",
       " 'against',\n",
       " 'between',\n",
       " 'into',\n",
       " 'through',\n",
       " 'during',\n",
       " 'before',\n",
       " 'after',\n",
       " 'above',\n",
       " 'below',\n",
       " 'to',\n",
       " 'from',\n",
       " 'up',\n",
       " 'down',\n",
       " 'in',\n",
       " 'out',\n",
       " 'on',\n",
       " 'off',\n",
       " 'over',\n",
       " 'under',\n",
       " 'again',\n",
       " 'further',\n",
       " 'then',\n",
       " 'once',\n",
       " 'here',\n",
       " 'there',\n",
       " 'when',\n",
       " 'where',\n",
       " 'why',\n",
       " 'how',\n",
       " 'all',\n",
       " 'any',\n",
       " 'both',\n",
       " 'each',\n",
       " 'few',\n",
       " 'more',\n",
       " 'most',\n",
       " 'other',\n",
       " 'some',\n",
       " 'such',\n",
       " 'no',\n",
       " 'nor',\n",
       " 'only',\n",
       " 'own',\n",
       " 'same',\n",
       " 'so',\n",
       " 'than',\n",
       " 'too',\n",
       " 'very',\n",
       " 's',\n",
       " 't',\n",
       " 'can',\n",
       " 'will',\n",
       " 'just',\n",
       " 'don',\n",
       " 'should',\n",
       " \"should've\",\n",
       " 'now',\n",
       " 'd',\n",
       " 'll',\n",
       " 'm',\n",
       " 'o',\n",
       " 're',\n",
       " 've',\n",
       " 'y',\n",
       " 'ain',\n",
       " 'aren',\n",
       " 'couldn',\n",
       " 'didn',\n",
       " 'doesn',\n",
       " 'hadn',\n",
       " 'hasn',\n",
       " 'haven',\n",
       " 'isn',\n",
       " 'ma',\n",
       " 'mightn',\n",
       " 'mustn',\n",
       " 'needn',\n",
       " 'shan',\n",
       " 'shouldn',\n",
       " 'wasn',\n",
       " 'weren',\n",
       " 'won',\n",
       " 'wouldn',\n",
       " '<br />']"
      ]
     },
     "execution_count": 124,
     "metadata": {},
     "output_type": "execute_result"
    }
   ],
   "source": [
    "stopwords_custom"
   ]
  },
  {
   "cell_type": "code",
   "execution_count": 125,
   "id": "cbb6eb79",
   "metadata": {},
   "outputs": [],
   "source": [
    "corpus_final = []"
   ]
  },
  {
   "cell_type": "code",
   "execution_count": 126,
   "id": "77baad0c",
   "metadata": {},
   "outputs": [],
   "source": [
    "for sentens in corpus:\n",
    "    text = re.sub('^a-zA-Z0-9',' ', sentens)\n",
    "    text = text.replace('<br /><br />',' ')\n",
    "    text = text.lower()\n",
    "    words =[word for word in word_tokenize(text) if word not in stopwords_custom]\n",
    "    corpus_final.append(' '.join(words))   "
   ]
  },
  {
   "cell_type": "code",
   "execution_count": 127,
   "id": "2c9c4f7e",
   "metadata": {},
   "outputs": [
    {
     "data": {
      "text/plain": [
       "\"one reviewers mentioned watching 1 oz episode 'll hooked . right , exactly happened . first thing struck oz brutality unflinching scenes violence , set right word go . trust , not show faint hearted timid . show pulls punches regards drugs , sex violence . hardcore , classic use word . called oz nickname given oswald maximum security state penitentary . focuses mainly emerald city , experimental section prison cells glass fronts face inwards , privacy not high agenda . em city home many .. aryans , muslims , gangstas , latinos , christians , italians , irish .... scuffles , death stares , dodgy dealings shady agreements never far away . would say main appeal show due fact goes shows would n't dare . forget pretty pictures painted mainstream audiences , forget charm , forget romance ... oz n't mess around . first episode ever saw struck nasty surreal , could n't say ready , watched , developed taste oz , got accustomed high levels graphic violence . not violence , injustice ( crooked guards 'll sold nickel , inmates 'll kill order get away , well mannered , middle class inmates turned prison bitches due lack street skills prison experience ) watching oz , may become comfortable uncomfortable viewing .... thats get touch darker side .\""
      ]
     },
     "execution_count": 127,
     "metadata": {},
     "output_type": "execute_result"
    }
   ],
   "source": [
    "corpus_final[0]"
   ]
  },
  {
   "cell_type": "code",
   "execution_count": 128,
   "id": "3a44d518",
   "metadata": {},
   "outputs": [
    {
     "data": {
      "text/plain": [
       "\"wonderful little production . filming technique unassuming- old-time-bbc fashion gives comforting , sometimes discomforting , sense realism entire piece . actors extremely well chosen- michael sheen not `` got polari '' voices pat ! truly see seamless editing guided references williams ' diary entries , not well worth watching terrificly written performed piece . masterful production one great master 's comedy life . realism really comes home little things : fantasy guard , rather use traditional 'dream ' techniques remains solid disappears . plays knowledge senses , particularly scenes concerning orton halliwell sets ( particularly flat halliwell 's murals decorating every surface ) terribly well done .\""
      ]
     },
     "execution_count": 128,
     "metadata": {},
     "output_type": "execute_result"
    }
   ],
   "source": [
    "corpus_final[1]"
   ]
  },
  {
   "cell_type": "code",
   "execution_count": 129,
   "id": "3ccb8f9c",
   "metadata": {},
   "outputs": [],
   "source": [
    "from sklearn.feature_extraction.text import CountVectorizer"
   ]
  },
  {
   "cell_type": "code",
   "execution_count": 130,
   "id": "97f1e2a0",
   "metadata": {},
   "outputs": [],
   "source": [
    "cv = CountVectorizer()"
   ]
  },
  {
   "cell_type": "code",
   "execution_count": 131,
   "id": "793c36f2",
   "metadata": {},
   "outputs": [],
   "source": [
    "X = cv.fit_transform(corpus_final)"
   ]
  },
  {
   "cell_type": "code",
   "execution_count": 132,
   "id": "505212a3",
   "metadata": {},
   "outputs": [
    {
     "data": {
      "text/plain": [
       "array([[0, 1, 0, ..., 0, 0, 0],\n",
       "       [0, 0, 0, ..., 0, 0, 0],\n",
       "       [0, 0, 0, ..., 0, 1, 0],\n",
       "       [1, 0, 0, ..., 0, 0, 2],\n",
       "       [0, 0, 1, ..., 1, 0, 0]])"
      ]
     },
     "execution_count": 132,
     "metadata": {},
     "output_type": "execute_result"
    }
   ],
   "source": [
    "X.toarray()"
   ]
  },
  {
   "cell_type": "code",
   "execution_count": 133,
   "id": "4ce2df26",
   "metadata": {},
   "outputs": [
    {
     "data": {
      "text/plain": [
       "array(['10', 'accustomed', 'acting', 'action', 'actors', 'addiction',\n",
       "       'adrian', 'agenda', 'agreements', 'air', 'alive', 'allen',\n",
       "       'another', 'anxiously', 'appeal', 'arguing', 'around', 'arthur',\n",
       "       'aryans', 'audiences', 'average', 'await', 'away', 'basically',\n",
       "       'bbc', 'become', 'best', 'big', 'bitches', 'boogeyman', 'boy',\n",
       "       'bread', 'brutality', 'buscemi', 'called', 'career', 'carol',\n",
       "       'case', 'cast', 'cells', 'characters', 'charm', 'chosen',\n",
       "       'christians', 'city', 'class', 'classic', 'closet', 'come',\n",
       "       'comedies', 'comedy', 'comes', 'comfortable', 'comforting',\n",
       "       'concerning', 'conditioned', 'connect', 'connected', 'contact',\n",
       "       'control', 'could', 'crooked', 'crown', 'dare', 'darker', 'dawson',\n",
       "       'dealings', 'death', 'decade', 'decide', 'decides', 'decorating',\n",
       "       'descent', 'developed', 'devil', 'dialogs', 'dialogue', 'diary',\n",
       "       'different', 'direction', 'director', 'disappears', 'disappointed',\n",
       "       'discerns', 'discomforting', 'divorcing', 'dodgy', 'done', 'drama',\n",
       "       'dream', 'drugs', 'due', 'editing', 'em', 'emerald', 'encounter',\n",
       "       'entire', 'entries', 'episode', 'even', 'ever', 'every', 'exactly',\n",
       "       'expected', 'experience', 'experimental', 'extremely', 'face',\n",
       "       'fact', 'faint', 'family', 'fantasy', 'far', 'fashion', 'fighting',\n",
       "       'film', 'filming', 'find', 'first', 'flat', 'focuses', 'forget',\n",
       "       'friends', 'fronts', 'fulfillment', 'fully', 'gangstas', 'get',\n",
       "       'gets', 'given', 'gives', 'glass', 'go', 'goes', 'going', 'good',\n",
       "       'got', 'graphic', 'great', 'grenier', 'grown', 'guard', 'guards',\n",
       "       'guided', 'habitat', 'halliwell', 'happened', 'hardcore',\n",
       "       'hearted', 'high', 'home', 'hooked', 'hot', 'human', 'ignore',\n",
       "       'image', 'imperioli', 'impressed', 'inhabits', 'injustice',\n",
       "       'inmates', 'instead', 'interesting', 'inwards', 'irish',\n",
       "       'italians', 'jake', 'jewel', 'johanson', 'jumped', 'kane', 'kill',\n",
       "       'killer', 'know', 'knowledge', 'lack', 'latinos', 'laughed',\n",
       "       'levels', 'life', 'light', 'likable', 'like', 'little', 'live',\n",
       "       'll', 'loneliness', 'look', 'love', 'luck', 'luxurious', 'main',\n",
       "       'mainly', 'mainstream', 'make', 'managed', 'mannered', 'many',\n",
       "       'master', 'masterful', 'match', 'mattei', 'maximum', 'may',\n",
       "       'meaningless', 'meet', 'mentioned', 'mess', 'michael', 'middle',\n",
       "       'money', 'movie', 'mr', 'murals', 'muslims', 'must', 'nasty',\n",
       "       'never', 'new', 'next', 'nickel', 'nickname', 'not', 'offers',\n",
       "       'ok', 'old', 'one', 'opera', 'order', 'orton', 'oswald', 'oz',\n",
       "       'painted', 'parents', 'particularly', 'pat', 'penitentary',\n",
       "       'people', 'performed', 'person', 'petter', 'picture', 'pictures',\n",
       "       'piece', 'place', 'play', 'playing', 'plays', 'plot', 'point',\n",
       "       'polari', 'portrait', 'power', 'prada', 'present', 'pretty',\n",
       "       'previous', 'prison', 'privacy', 'production', 'proof', 'pulls',\n",
       "       'punches', 'rambo', 'rather', 're', 'ready', 'real', 'realism',\n",
       "       'realize', 'really', 'references', 'regards', 'relations',\n",
       "       'remains', 'rest', 'reviewers', 'right', 'risk', 'romance',\n",
       "       'rosario', 'ruins', 'saw', 'say', 'scarlet', 'scenes',\n",
       "       'schnitzler', 'scuffles', 'seamless', 'section', 'security', 'see',\n",
       "       'seems', 'sense', 'senses', 'serial', 'set', 'sets', 'sex', 'sexy',\n",
       "       'shady', 'sheen', 'shots', 'show', 'shows', 'side', 'similar',\n",
       "       'simplistic', 'sincere', 'sitting', 'situations', 'skills',\n",
       "       'slower', 'soap', 'sold', 'solid', 'sometimes', 'sophisticated',\n",
       "       'souls', 'spend', 'spirited', 'spots', 'stages', 'stares', 'state',\n",
       "       'steve', 'still', 'street', 'struck', 'stunning', 'style',\n",
       "       'stylishly', 'success', 'suddenly', 'summer', 'superman',\n",
       "       'surface', 'surreal', 'suspected', 'taken', 'talented', 'taste',\n",
       "       'technique', 'techniques', 'telling', 'terribly', 'terrificly',\n",
       "       'thats', 'theater', 'theme', 'thing', 'things', 'thinks',\n",
       "       'thought', 'thriller', 'time', 'timid', 'tone', 'totally', 'touch',\n",
       "       'traditional', 'transfers', 'truly', 'trust', 'turned',\n",
       "       'unassuming', 'uncomfortable', 'unflinching', 'us', 'use',\n",
       "       'variation', 've', 'viewing', 'violence', 'visually', 'vivid',\n",
       "       'voices', 'watch', 'watchable', 'watched', 'watching', 'way',\n",
       "       'wears', 'weekend', 'well', 'williams', 'wish', 'wittier', 'witty',\n",
       "       'woman', 'wonderful', 'woody', 'word', 'work', 'world', 'worth',\n",
       "       'would', 'written', 'years', 'york', 'young', 'zombie'],\n",
       "      dtype=object)"
      ]
     },
     "execution_count": 133,
     "metadata": {},
     "output_type": "execute_result"
    }
   ],
   "source": [
    "cv.get_feature_names_out()"
   ]
  },
  {
   "cell_type": "code",
   "execution_count": 134,
   "id": "5e337076",
   "metadata": {},
   "outputs": [],
   "source": [
    "from sklearn.feature_extraction.text import TfidfVectorizer"
   ]
  },
  {
   "cell_type": "code",
   "execution_count": 135,
   "id": "b65640a7",
   "metadata": {},
   "outputs": [],
   "source": [
    "tfidf = TfidfVectorizer()"
   ]
  },
  {
   "cell_type": "code",
   "execution_count": 136,
   "id": "1c8376e6",
   "metadata": {},
   "outputs": [],
   "source": [
    "X1 = tfidf.fit_transform(corpus_final)"
   ]
  },
  {
   "cell_type": "code",
   "execution_count": 138,
   "id": "d479da45",
   "metadata": {},
   "outputs": [
    {
     "data": {
      "text/plain": [
       "array([[0.        , 0.06331348, 0.        , ..., 0.        , 0.        ,\n",
       "        0.        ],\n",
       "       [0.        , 0.        , 0.        , ..., 0.        , 0.        ,\n",
       "        0.        ],\n",
       "       [0.        , 0.        , 0.        , ..., 0.        , 0.10956125,\n",
       "        0.        ],\n",
       "       [0.10261376, 0.        , 0.        , ..., 0.        , 0.        ,\n",
       "        0.20522751],\n",
       "       [0.        , 0.        , 0.0758098 , ..., 0.0758098 , 0.        ,\n",
       "        0.        ]])"
      ]
     },
     "execution_count": 138,
     "metadata": {},
     "output_type": "execute_result"
    }
   ],
   "source": [
    "X1.toarray()"
   ]
  },
  {
   "cell_type": "code",
   "execution_count": null,
   "id": "dea36ea0",
   "metadata": {},
   "outputs": [],
   "source": []
  }
 ],
 "metadata": {
  "kernelspec": {
   "display_name": "Python 3 (ipykernel)",
   "language": "python",
   "name": "python3"
  },
  "language_info": {
   "codemirror_mode": {
    "name": "ipython",
    "version": 3
   },
   "file_extension": ".py",
   "mimetype": "text/x-python",
   "name": "python",
   "nbconvert_exporter": "python",
   "pygments_lexer": "ipython3",
   "version": "3.10.2"
  }
 },
 "nbformat": 4,
 "nbformat_minor": 5
}
